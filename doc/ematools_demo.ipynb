{
 "cells": [
  {
   "cell_type": "markdown",
   "metadata": {},
   "source": [
    "# Ematools demo\n",
    "\n",
    "This notebook illustrates usage of `ematools` for exploring and preprocessing NDI EMA data."
   ]
  },
  {
   "cell_type": "code",
   "execution_count": 1,
   "metadata": {},
   "outputs": [],
   "source": [
    "import os\n",
    "import numpy as np\n",
    "from ematools import NDIData, WaxBiteplate5D, WaxBiteplate6D, coords2df  # pip install git+https://github.com/rsprouse/ematools\n",
    "from phonlab.third_party.robustsmoothing import smoothn  # pip install git+https://github.com/rsprouse/phonlab\n",
    "import matplotlib.pyplot as plt\n",
    "%matplotlib inline\n",
    "\n",
    "datadir = \"../data\"\n",
    "\n",
    "def sensor_plot(tvals, allsensors):\n",
    "    '''Quick and dirty plotting for these acquisitions.'''\n",
    "    colormap = [\n",
    "        ('REF', 'b'), ('RMA', 'g'), ('LMA', 'orange'), ('JAW', 'r'),\n",
    "        ('UL', 'y'), ('LL', 'y'), ('JW', 'r'), ('TT', 'k'), ('TB', 'k'), ('TD', 'k'),\n",
    "        ('PL', 'b')\n",
    "    ]\n",
    "    for sensor, color in colormap:\n",
    "        try:\n",
    "            sidx = np.where(np.array(allsensors) == sensor)[0][0] # sensor index\n",
    "            plt.plot(tvals[:,sidx,0], tvals[:,sidx,1], color=color)\n",
    "        except IndexError:\n",
    "            pass"
   ]
  },
  {
   "cell_type": "markdown",
   "metadata": {},
   "source": [
    "## Explore a .tsv file\n",
    "\n",
    "Load data in a .tsv file into an `NDIData` object. If you don't know the sensor names and locations yet, the sensor columns will automatically be prefixed with `Sn_`, where `n` is an index starting with 0."
   ]
  },
  {
   "cell_type": "code",
   "execution_count": 2,
   "metadata": {},
   "outputs": [],
   "source": [
    "dfile = os.path.join(datadir, 'human_test_with_6dref_000.tsv')\n",
    "drec = NDIData(dfile)"
   ]
  },
  {
   "cell_type": "markdown",
   "metadata": {},
   "source": [
    "Access the dataframe with the `df` attribute."
   ]
  },
  {
   "cell_type": "code",
   "execution_count": 3,
   "metadata": {},
   "outputs": [
    {
     "data": {
      "text/html": [
       "<div>\n",
       "<style scoped>\n",
       "    .dataframe tbody tr th:only-of-type {\n",
       "        vertical-align: middle;\n",
       "    }\n",
       "\n",
       "    .dataframe tbody tr th {\n",
       "        vertical-align: top;\n",
       "    }\n",
       "\n",
       "    .dataframe thead th {\n",
       "        text-align: right;\n",
       "    }\n",
       "</style>\n",
       "<table border=\"1\" class=\"dataframe\">\n",
       "  <thead>\n",
       "    <tr style=\"text-align: right;\">\n",
       "      <th></th>\n",
       "      <th>sec</th>\n",
       "      <th>S0_id</th>\n",
       "      <th>S0_frame</th>\n",
       "      <th>S0_state</th>\n",
       "      <th>S0_q0</th>\n",
       "      <th>S0_qx</th>\n",
       "      <th>S0_qy</th>\n",
       "      <th>S0_qz</th>\n",
       "      <th>S0_x</th>\n",
       "      <th>S0_y</th>\n",
       "      <th>...</th>\n",
       "      <th>S14_id</th>\n",
       "      <th>S14_frame</th>\n",
       "      <th>S14_state</th>\n",
       "      <th>S14_q0</th>\n",
       "      <th>S14_qx</th>\n",
       "      <th>S14_qy</th>\n",
       "      <th>S14_qz</th>\n",
       "      <th>S14_x</th>\n",
       "      <th>S14_y</th>\n",
       "      <th>S14_z</th>\n",
       "    </tr>\n",
       "  </thead>\n",
       "  <tbody>\n",
       "    <tr>\n",
       "      <th>0</th>\n",
       "      <td>0.004996</td>\n",
       "      <td>B5-03859-P01-CH0</td>\n",
       "      <td>756068</td>\n",
       "      <td>Signal too small</td>\n",
       "      <td>NaN</td>\n",
       "      <td>NaN</td>\n",
       "      <td>NaN</td>\n",
       "      <td>NaN</td>\n",
       "      <td>NaN</td>\n",
       "      <td>NaN</td>\n",
       "      <td>...</td>\n",
       "      <td>B5-03858-P04-CH1</td>\n",
       "      <td>756080</td>\n",
       "      <td>Bad Fit</td>\n",
       "      <td>NaN</td>\n",
       "      <td>NaN</td>\n",
       "      <td>NaN</td>\n",
       "      <td>NaN</td>\n",
       "      <td>NaN</td>\n",
       "      <td>NaN</td>\n",
       "      <td>NaN</td>\n",
       "    </tr>\n",
       "    <tr>\n",
       "      <th>1</th>\n",
       "      <td>0.009992</td>\n",
       "      <td>B5-03859-P01-CH0</td>\n",
       "      <td>756072</td>\n",
       "      <td>Signal too small</td>\n",
       "      <td>NaN</td>\n",
       "      <td>NaN</td>\n",
       "      <td>NaN</td>\n",
       "      <td>NaN</td>\n",
       "      <td>NaN</td>\n",
       "      <td>NaN</td>\n",
       "      <td>...</td>\n",
       "      <td>B5-03858-P04-CH1</td>\n",
       "      <td>756084</td>\n",
       "      <td>Bad Fit</td>\n",
       "      <td>NaN</td>\n",
       "      <td>NaN</td>\n",
       "      <td>NaN</td>\n",
       "      <td>NaN</td>\n",
       "      <td>NaN</td>\n",
       "      <td>NaN</td>\n",
       "      <td>NaN</td>\n",
       "    </tr>\n",
       "    <tr>\n",
       "      <th>2</th>\n",
       "      <td>0.014988</td>\n",
       "      <td>B5-03859-P01-CH0</td>\n",
       "      <td>756076</td>\n",
       "      <td>Signal too small</td>\n",
       "      <td>NaN</td>\n",
       "      <td>NaN</td>\n",
       "      <td>NaN</td>\n",
       "      <td>NaN</td>\n",
       "      <td>NaN</td>\n",
       "      <td>NaN</td>\n",
       "      <td>...</td>\n",
       "      <td>B5-03858-P04-CH1</td>\n",
       "      <td>756088</td>\n",
       "      <td>Bad Fit</td>\n",
       "      <td>NaN</td>\n",
       "      <td>NaN</td>\n",
       "      <td>NaN</td>\n",
       "      <td>NaN</td>\n",
       "      <td>NaN</td>\n",
       "      <td>NaN</td>\n",
       "      <td>NaN</td>\n",
       "    </tr>\n",
       "    <tr>\n",
       "      <th>3</th>\n",
       "      <td>0.019984</td>\n",
       "      <td>B5-03859-P01-CH0</td>\n",
       "      <td>756080</td>\n",
       "      <td>Signal too small</td>\n",
       "      <td>NaN</td>\n",
       "      <td>NaN</td>\n",
       "      <td>NaN</td>\n",
       "      <td>NaN</td>\n",
       "      <td>NaN</td>\n",
       "      <td>NaN</td>\n",
       "      <td>...</td>\n",
       "      <td>B5-03858-P04-CH1</td>\n",
       "      <td>756092</td>\n",
       "      <td>Bad Fit</td>\n",
       "      <td>NaN</td>\n",
       "      <td>NaN</td>\n",
       "      <td>NaN</td>\n",
       "      <td>NaN</td>\n",
       "      <td>NaN</td>\n",
       "      <td>NaN</td>\n",
       "      <td>NaN</td>\n",
       "    </tr>\n",
       "    <tr>\n",
       "      <th>4</th>\n",
       "      <td>0.024981</td>\n",
       "      <td>B5-03859-P01-CH0</td>\n",
       "      <td>756084</td>\n",
       "      <td>Signal too small</td>\n",
       "      <td>NaN</td>\n",
       "      <td>NaN</td>\n",
       "      <td>NaN</td>\n",
       "      <td>NaN</td>\n",
       "      <td>NaN</td>\n",
       "      <td>NaN</td>\n",
       "      <td>...</td>\n",
       "      <td>B5-03858-P04-CH1</td>\n",
       "      <td>756096</td>\n",
       "      <td>Processing Error</td>\n",
       "      <td>NaN</td>\n",
       "      <td>NaN</td>\n",
       "      <td>NaN</td>\n",
       "      <td>NaN</td>\n",
       "      <td>NaN</td>\n",
       "      <td>NaN</td>\n",
       "      <td>NaN</td>\n",
       "    </tr>\n",
       "  </tbody>\n",
       "</table>\n",
       "<p>5 rows × 151 columns</p>\n",
       "</div>"
      ],
      "text/plain": [
       "        sec             S0_id  S0_frame          S0_state  S0_q0  S0_qx  \\\n",
       "0  0.004996  B5-03859-P01-CH0    756068  Signal too small    NaN    NaN   \n",
       "1  0.009992  B5-03859-P01-CH0    756072  Signal too small    NaN    NaN   \n",
       "2  0.014988  B5-03859-P01-CH0    756076  Signal too small    NaN    NaN   \n",
       "3  0.019984  B5-03859-P01-CH0    756080  Signal too small    NaN    NaN   \n",
       "4  0.024981  B5-03859-P01-CH0    756084  Signal too small    NaN    NaN   \n",
       "\n",
       "   S0_qy  S0_qz  S0_x  S0_y  ...              S14_id S14_frame  \\\n",
       "0    NaN    NaN   NaN   NaN  ...    B5-03858-P04-CH1    756080   \n",
       "1    NaN    NaN   NaN   NaN  ...    B5-03858-P04-CH1    756084   \n",
       "2    NaN    NaN   NaN   NaN  ...    B5-03858-P04-CH1    756088   \n",
       "3    NaN    NaN   NaN   NaN  ...    B5-03858-P04-CH1    756092   \n",
       "4    NaN    NaN   NaN   NaN  ...    B5-03858-P04-CH1    756096   \n",
       "\n",
       "          S14_state S14_q0  S14_qx  S14_qy  S14_qz  S14_x  S14_y  S14_z  \n",
       "0           Bad Fit    NaN     NaN     NaN     NaN    NaN    NaN    NaN  \n",
       "1           Bad Fit    NaN     NaN     NaN     NaN    NaN    NaN    NaN  \n",
       "2           Bad Fit    NaN     NaN     NaN     NaN    NaN    NaN    NaN  \n",
       "3           Bad Fit    NaN     NaN     NaN     NaN    NaN    NaN    NaN  \n",
       "4  Processing Error    NaN     NaN     NaN     NaN    NaN    NaN    NaN  \n",
       "\n",
       "[5 rows x 151 columns]"
      ]
     },
     "execution_count": 3,
     "metadata": {},
     "output_type": "execute_result"
    }
   ],
   "source": [
    "drec.df.head()"
   ]
  },
  {
   "cell_type": "markdown",
   "metadata": {},
   "source": [
    "Other attributes are available for inspection:"
   ]
  },
  {
   "cell_type": "code",
   "execution_count": 4,
   "metadata": {},
   "outputs": [
    {
     "name": "stdout",
     "output_type": "stream",
     "text": [
      "200.15558093305927\n",
      "15\n",
      "['S0', 'S1', 'S2', 'S3', 'S4', 'S5', 'S6', 'S7', 'S8', 'S9', 'S10', 'S11', 'S12', 'S13', 'S14']\n",
      "['S0_state', 'S1_state', 'S2_state', 'S3_state', 'S4_state', 'S5_state', 'S6_state', 'S7_state', 'S8_state', 'S9_state', 'S10_state', 'S11_state', 'S12_state', 'S13_state', 'S14_state']\n"
     ]
    }
   ],
   "source": [
    "print(drec.rate)           # sample rate\n",
    "print(drec.num_sensors)    # number of sensors loaded\n",
    "print(drec.sensors)        # names of sensors, in order as they appear in dataframe\n",
    "print(drec.state_cols)     # names of <sensor>_state columns"
   ]
  },
  {
   "cell_type": "markdown",
   "metadata": {},
   "source": [
    "## Checking sensor states\n",
    "\n",
    "There are multiple ways to explore the data columns for goodness of the data.\n",
    "\n",
    "The `state_cols` attribute contains a list of the `<sensor>_state` columns. These contain comments on sensor observations. You can access these columns and use the Pandas [`describe()`](https://pandas.pydata.org/pandas-docs/stable/reference/api/pandas.DataFrame.describe.html) method to find the ones in which the most frequent observations are `OK` and there is a high proportion of `freq` compared to `count`."
   ]
  },
  {
   "cell_type": "code",
   "execution_count": 5,
   "metadata": {},
   "outputs": [
    {
     "data": {
      "text/html": [
       "<div>\n",
       "<style scoped>\n",
       "    .dataframe tbody tr th:only-of-type {\n",
       "        vertical-align: middle;\n",
       "    }\n",
       "\n",
       "    .dataframe tbody tr th {\n",
       "        vertical-align: top;\n",
       "    }\n",
       "\n",
       "    .dataframe thead th {\n",
       "        text-align: right;\n",
       "    }\n",
       "</style>\n",
       "<table border=\"1\" class=\"dataframe\">\n",
       "  <thead>\n",
       "    <tr style=\"text-align: right;\">\n",
       "      <th></th>\n",
       "      <th>S0_state</th>\n",
       "      <th>S1_state</th>\n",
       "      <th>S2_state</th>\n",
       "      <th>S3_state</th>\n",
       "      <th>S4_state</th>\n",
       "      <th>S5_state</th>\n",
       "      <th>S6_state</th>\n",
       "      <th>S7_state</th>\n",
       "      <th>S8_state</th>\n",
       "      <th>S9_state</th>\n",
       "      <th>S10_state</th>\n",
       "      <th>S11_state</th>\n",
       "      <th>S12_state</th>\n",
       "      <th>S13_state</th>\n",
       "      <th>S14_state</th>\n",
       "    </tr>\n",
       "  </thead>\n",
       "  <tbody>\n",
       "    <tr>\n",
       "      <th>count</th>\n",
       "      <td>2001</td>\n",
       "      <td>2001</td>\n",
       "      <td>2001</td>\n",
       "      <td>2001</td>\n",
       "      <td>2001</td>\n",
       "      <td>2001</td>\n",
       "      <td>2001</td>\n",
       "      <td>2001</td>\n",
       "      <td>2001</td>\n",
       "      <td>2001</td>\n",
       "      <td>2001</td>\n",
       "      <td>2001</td>\n",
       "      <td>2001</td>\n",
       "      <td>2001</td>\n",
       "      <td>2001</td>\n",
       "    </tr>\n",
       "    <tr>\n",
       "      <th>unique</th>\n",
       "      <td>3</td>\n",
       "      <td>3</td>\n",
       "      <td>1</td>\n",
       "      <td>1</td>\n",
       "      <td>2</td>\n",
       "      <td>1</td>\n",
       "      <td>1</td>\n",
       "      <td>1</td>\n",
       "      <td>1</td>\n",
       "      <td>3</td>\n",
       "      <td>2</td>\n",
       "      <td>3</td>\n",
       "      <td>1</td>\n",
       "      <td>2</td>\n",
       "      <td>2</td>\n",
       "    </tr>\n",
       "    <tr>\n",
       "      <th>top</th>\n",
       "      <td>Signal too small</td>\n",
       "      <td>Signal too small</td>\n",
       "      <td>Tool Missing</td>\n",
       "      <td>OK</td>\n",
       "      <td>Processing Error</td>\n",
       "      <td>OK</td>\n",
       "      <td>Tool Missing</td>\n",
       "      <td>Tool Missing</td>\n",
       "      <td>OK</td>\n",
       "      <td>OK</td>\n",
       "      <td>Processing Error</td>\n",
       "      <td>Signal too small</td>\n",
       "      <td>OK</td>\n",
       "      <td>Bad Fit</td>\n",
       "      <td>Processing Error</td>\n",
       "    </tr>\n",
       "    <tr>\n",
       "      <th>freq</th>\n",
       "      <td>1937</td>\n",
       "      <td>1834</td>\n",
       "      <td>2001</td>\n",
       "      <td>2001</td>\n",
       "      <td>1522</td>\n",
       "      <td>2001</td>\n",
       "      <td>2001</td>\n",
       "      <td>2001</td>\n",
       "      <td>2001</td>\n",
       "      <td>1980</td>\n",
       "      <td>1911</td>\n",
       "      <td>1878</td>\n",
       "      <td>2001</td>\n",
       "      <td>1085</td>\n",
       "      <td>1094</td>\n",
       "    </tr>\n",
       "  </tbody>\n",
       "</table>\n",
       "</div>"
      ],
      "text/plain": [
       "                S0_state          S1_state      S2_state S3_state  \\\n",
       "count               2001              2001          2001     2001   \n",
       "unique                 3                 3             1        1   \n",
       "top     Signal too small  Signal too small  Tool Missing       OK   \n",
       "freq                1937              1834          2001     2001   \n",
       "\n",
       "                S4_state S5_state      S6_state      S7_state S8_state  \\\n",
       "count               2001     2001          2001          2001     2001   \n",
       "unique                 2        1             1             1        1   \n",
       "top     Processing Error       OK  Tool Missing  Tool Missing       OK   \n",
       "freq                1522     2001          2001          2001     2001   \n",
       "\n",
       "       S9_state         S10_state         S11_state S12_state S13_state  \\\n",
       "count      2001              2001              2001      2001      2001   \n",
       "unique        3                 2                 3         1         2   \n",
       "top          OK  Processing Error  Signal too small        OK   Bad Fit   \n",
       "freq       1980              1911              1878      2001      1085   \n",
       "\n",
       "               S14_state  \n",
       "count               2001  \n",
       "unique                 2  \n",
       "top     Processing Error  \n",
       "freq                1094  "
      ]
     },
     "execution_count": 5,
     "metadata": {},
     "output_type": "execute_result"
    }
   ],
   "source": [
    "drec.df[drec.state_cols].describe()"
   ]
  },
  {
   "cell_type": "markdown",
   "metadata": {},
   "source": [
    "The sensors at indexes [3, 5, 8, 9, 12] appear to contain meaningful data.\n",
    "\n",
    "If you prefer you can look at data values directly to find `NaN` or other values that are likely to indicate good or bad data."
   ]
  },
  {
   "cell_type": "code",
   "execution_count": 6,
   "metadata": {},
   "outputs": [
    {
     "name": "stdout",
     "output_type": "stream",
     "text": [
      "0   NaN\n",
      "1   NaN\n",
      "2   NaN\n",
      "3   NaN\n",
      "4   NaN\n",
      "Name: S0_x, dtype: float64\n",
      "0   -0.155\n",
      "1   -0.575\n",
      "2   -0.111\n",
      "3   -0.365\n",
      "4   -0.202\n",
      "Name: S3_x, dtype: float64\n"
     ]
    }
   ],
   "source": [
    "print(drec.df.S0_x.head())\n",
    "print(drec.df.S3_x.head())"
   ]
  },
  {
   "cell_type": "markdown",
   "metadata": {},
   "source": [
    "## Load a mix of known and unknown sensor data\n",
    "\n",
    "When you know the mapping of sensors to columns, create a dictionary that maps known sensor names to index values. (Or provide a list of sensor names, using `None` as a placeholder for unknown sensors.) Use this mapping when you load the .tsv file and include the `load_all` parameter to indicate that unknown sensor values should also be loaded. The unknown sensors are prefixed with `Sn` as before."
   ]
  },
  {
   "cell_type": "code",
   "execution_count": 7,
   "metadata": {},
   "outputs": [
    {
     "data": {
      "text/html": [
       "<div>\n",
       "<style scoped>\n",
       "    .dataframe tbody tr th:only-of-type {\n",
       "        vertical-align: middle;\n",
       "    }\n",
       "\n",
       "    .dataframe tbody tr th {\n",
       "        vertical-align: top;\n",
       "    }\n",
       "\n",
       "    .dataframe thead th {\n",
       "        text-align: right;\n",
       "    }\n",
       "</style>\n",
       "<table border=\"1\" class=\"dataframe\">\n",
       "  <thead>\n",
       "    <tr style=\"text-align: right;\">\n",
       "      <th></th>\n",
       "      <th>sec</th>\n",
       "      <th>S0_id</th>\n",
       "      <th>S0_frame</th>\n",
       "      <th>S0_state</th>\n",
       "      <th>S0_q0</th>\n",
       "      <th>S0_qx</th>\n",
       "      <th>S0_qy</th>\n",
       "      <th>S0_qz</th>\n",
       "      <th>S0_x</th>\n",
       "      <th>S0_y</th>\n",
       "      <th>...</th>\n",
       "      <th>S14_id</th>\n",
       "      <th>S14_frame</th>\n",
       "      <th>S14_state</th>\n",
       "      <th>S14_q0</th>\n",
       "      <th>S14_qx</th>\n",
       "      <th>S14_qy</th>\n",
       "      <th>S14_qz</th>\n",
       "      <th>S14_x</th>\n",
       "      <th>S14_y</th>\n",
       "      <th>S14_z</th>\n",
       "    </tr>\n",
       "  </thead>\n",
       "  <tbody>\n",
       "    <tr>\n",
       "      <th>0</th>\n",
       "      <td>0.004996</td>\n",
       "      <td>B5-03859-P01-CH0</td>\n",
       "      <td>756068</td>\n",
       "      <td>Signal too small</td>\n",
       "      <td>NaN</td>\n",
       "      <td>NaN</td>\n",
       "      <td>NaN</td>\n",
       "      <td>NaN</td>\n",
       "      <td>NaN</td>\n",
       "      <td>NaN</td>\n",
       "      <td>...</td>\n",
       "      <td>B5-03858-P04-CH1</td>\n",
       "      <td>756080</td>\n",
       "      <td>Bad Fit</td>\n",
       "      <td>NaN</td>\n",
       "      <td>NaN</td>\n",
       "      <td>NaN</td>\n",
       "      <td>NaN</td>\n",
       "      <td>NaN</td>\n",
       "      <td>NaN</td>\n",
       "      <td>NaN</td>\n",
       "    </tr>\n",
       "    <tr>\n",
       "      <th>1</th>\n",
       "      <td>0.009992</td>\n",
       "      <td>B5-03859-P01-CH0</td>\n",
       "      <td>756072</td>\n",
       "      <td>Signal too small</td>\n",
       "      <td>NaN</td>\n",
       "      <td>NaN</td>\n",
       "      <td>NaN</td>\n",
       "      <td>NaN</td>\n",
       "      <td>NaN</td>\n",
       "      <td>NaN</td>\n",
       "      <td>...</td>\n",
       "      <td>B5-03858-P04-CH1</td>\n",
       "      <td>756084</td>\n",
       "      <td>Bad Fit</td>\n",
       "      <td>NaN</td>\n",
       "      <td>NaN</td>\n",
       "      <td>NaN</td>\n",
       "      <td>NaN</td>\n",
       "      <td>NaN</td>\n",
       "      <td>NaN</td>\n",
       "      <td>NaN</td>\n",
       "    </tr>\n",
       "    <tr>\n",
       "      <th>2</th>\n",
       "      <td>0.014988</td>\n",
       "      <td>B5-03859-P01-CH0</td>\n",
       "      <td>756076</td>\n",
       "      <td>Signal too small</td>\n",
       "      <td>NaN</td>\n",
       "      <td>NaN</td>\n",
       "      <td>NaN</td>\n",
       "      <td>NaN</td>\n",
       "      <td>NaN</td>\n",
       "      <td>NaN</td>\n",
       "      <td>...</td>\n",
       "      <td>B5-03858-P04-CH1</td>\n",
       "      <td>756088</td>\n",
       "      <td>Bad Fit</td>\n",
       "      <td>NaN</td>\n",
       "      <td>NaN</td>\n",
       "      <td>NaN</td>\n",
       "      <td>NaN</td>\n",
       "      <td>NaN</td>\n",
       "      <td>NaN</td>\n",
       "      <td>NaN</td>\n",
       "    </tr>\n",
       "    <tr>\n",
       "      <th>3</th>\n",
       "      <td>0.019984</td>\n",
       "      <td>B5-03859-P01-CH0</td>\n",
       "      <td>756080</td>\n",
       "      <td>Signal too small</td>\n",
       "      <td>NaN</td>\n",
       "      <td>NaN</td>\n",
       "      <td>NaN</td>\n",
       "      <td>NaN</td>\n",
       "      <td>NaN</td>\n",
       "      <td>NaN</td>\n",
       "      <td>...</td>\n",
       "      <td>B5-03858-P04-CH1</td>\n",
       "      <td>756092</td>\n",
       "      <td>Bad Fit</td>\n",
       "      <td>NaN</td>\n",
       "      <td>NaN</td>\n",
       "      <td>NaN</td>\n",
       "      <td>NaN</td>\n",
       "      <td>NaN</td>\n",
       "      <td>NaN</td>\n",
       "      <td>NaN</td>\n",
       "    </tr>\n",
       "    <tr>\n",
       "      <th>4</th>\n",
       "      <td>0.024981</td>\n",
       "      <td>B5-03859-P01-CH0</td>\n",
       "      <td>756084</td>\n",
       "      <td>Signal too small</td>\n",
       "      <td>NaN</td>\n",
       "      <td>NaN</td>\n",
       "      <td>NaN</td>\n",
       "      <td>NaN</td>\n",
       "      <td>NaN</td>\n",
       "      <td>NaN</td>\n",
       "      <td>...</td>\n",
       "      <td>B5-03858-P04-CH1</td>\n",
       "      <td>756096</td>\n",
       "      <td>Processing Error</td>\n",
       "      <td>NaN</td>\n",
       "      <td>NaN</td>\n",
       "      <td>NaN</td>\n",
       "      <td>NaN</td>\n",
       "      <td>NaN</td>\n",
       "      <td>NaN</td>\n",
       "      <td>NaN</td>\n",
       "    </tr>\n",
       "  </tbody>\n",
       "</table>\n",
       "<p>5 rows × 151 columns</p>\n",
       "</div>"
      ],
      "text/plain": [
       "        sec             S0_id  S0_frame          S0_state  S0_q0  S0_qx  \\\n",
       "0  0.004996  B5-03859-P01-CH0    756068  Signal too small    NaN    NaN   \n",
       "1  0.009992  B5-03859-P01-CH0    756072  Signal too small    NaN    NaN   \n",
       "2  0.014988  B5-03859-P01-CH0    756076  Signal too small    NaN    NaN   \n",
       "3  0.019984  B5-03859-P01-CH0    756080  Signal too small    NaN    NaN   \n",
       "4  0.024981  B5-03859-P01-CH0    756084  Signal too small    NaN    NaN   \n",
       "\n",
       "   S0_qy  S0_qz  S0_x  S0_y  ...              S14_id S14_frame  \\\n",
       "0    NaN    NaN   NaN   NaN  ...    B5-03858-P04-CH1    756080   \n",
       "1    NaN    NaN   NaN   NaN  ...    B5-03858-P04-CH1    756084   \n",
       "2    NaN    NaN   NaN   NaN  ...    B5-03858-P04-CH1    756088   \n",
       "3    NaN    NaN   NaN   NaN  ...    B5-03858-P04-CH1    756092   \n",
       "4    NaN    NaN   NaN   NaN  ...    B5-03858-P04-CH1    756096   \n",
       "\n",
       "          S14_state S14_q0  S14_qx  S14_qy  S14_qz  S14_x  S14_y  S14_z  \n",
       "0           Bad Fit    NaN     NaN     NaN     NaN    NaN    NaN    NaN  \n",
       "1           Bad Fit    NaN     NaN     NaN     NaN    NaN    NaN    NaN  \n",
       "2           Bad Fit    NaN     NaN     NaN     NaN    NaN    NaN    NaN  \n",
       "3           Bad Fit    NaN     NaN     NaN     NaN    NaN    NaN    NaN  \n",
       "4  Processing Error    NaN     NaN     NaN     NaN    NaN    NaN    NaN  \n",
       "\n",
       "[5 rows x 151 columns]"
      ]
     },
     "execution_count": 7,
     "metadata": {},
     "output_type": "execute_result"
    }
   ],
   "source": [
    "sensordict = {'REF': 3, 'JAW': 5, 'LMA': 8, 'RMA': 9, 'OS': 12}\n",
    "sensorlist = [None, None, None, 'REF', None, 'JAW', None, None, 'LMA', 'RMA', None, None, 'OS']\n",
    "drec = NDIData(dfile, sensordict, load_all=True)\n",
    "drec.df.head()"
   ]
  },
  {
   "cell_type": "markdown",
   "metadata": {},
   "source": [
    "Examining the `state_cols` shows the dataframe now holds meaningful values for the known sensors, and the unknown sensors (prefixed with `Sn`) do not appear to contain anything meaningful."
   ]
  },
  {
   "cell_type": "code",
   "execution_count": 8,
   "metadata": {},
   "outputs": [
    {
     "data": {
      "text/html": [
       "<div>\n",
       "<style scoped>\n",
       "    .dataframe tbody tr th:only-of-type {\n",
       "        vertical-align: middle;\n",
       "    }\n",
       "\n",
       "    .dataframe tbody tr th {\n",
       "        vertical-align: top;\n",
       "    }\n",
       "\n",
       "    .dataframe thead th {\n",
       "        text-align: right;\n",
       "    }\n",
       "</style>\n",
       "<table border=\"1\" class=\"dataframe\">\n",
       "  <thead>\n",
       "    <tr style=\"text-align: right;\">\n",
       "      <th></th>\n",
       "      <th>S0_state</th>\n",
       "      <th>S1_state</th>\n",
       "      <th>S2_state</th>\n",
       "      <th>REF_state</th>\n",
       "      <th>S4_state</th>\n",
       "      <th>JAW_state</th>\n",
       "      <th>S6_state</th>\n",
       "      <th>S7_state</th>\n",
       "      <th>LMA_state</th>\n",
       "      <th>RMA_state</th>\n",
       "      <th>S10_state</th>\n",
       "      <th>S11_state</th>\n",
       "      <th>OS_state</th>\n",
       "      <th>S13_state</th>\n",
       "      <th>S14_state</th>\n",
       "    </tr>\n",
       "  </thead>\n",
       "  <tbody>\n",
       "    <tr>\n",
       "      <th>count</th>\n",
       "      <td>2001</td>\n",
       "      <td>2001</td>\n",
       "      <td>2001</td>\n",
       "      <td>2001</td>\n",
       "      <td>2001</td>\n",
       "      <td>2001</td>\n",
       "      <td>2001</td>\n",
       "      <td>2001</td>\n",
       "      <td>2001</td>\n",
       "      <td>2001</td>\n",
       "      <td>2001</td>\n",
       "      <td>2001</td>\n",
       "      <td>2001</td>\n",
       "      <td>2001</td>\n",
       "      <td>2001</td>\n",
       "    </tr>\n",
       "    <tr>\n",
       "      <th>unique</th>\n",
       "      <td>3</td>\n",
       "      <td>3</td>\n",
       "      <td>1</td>\n",
       "      <td>1</td>\n",
       "      <td>2</td>\n",
       "      <td>1</td>\n",
       "      <td>1</td>\n",
       "      <td>1</td>\n",
       "      <td>1</td>\n",
       "      <td>3</td>\n",
       "      <td>2</td>\n",
       "      <td>3</td>\n",
       "      <td>1</td>\n",
       "      <td>2</td>\n",
       "      <td>2</td>\n",
       "    </tr>\n",
       "    <tr>\n",
       "      <th>top</th>\n",
       "      <td>Signal too small</td>\n",
       "      <td>Signal too small</td>\n",
       "      <td>Tool Missing</td>\n",
       "      <td>OK</td>\n",
       "      <td>Processing Error</td>\n",
       "      <td>OK</td>\n",
       "      <td>Tool Missing</td>\n",
       "      <td>Tool Missing</td>\n",
       "      <td>OK</td>\n",
       "      <td>OK</td>\n",
       "      <td>Processing Error</td>\n",
       "      <td>Signal too small</td>\n",
       "      <td>OK</td>\n",
       "      <td>Bad Fit</td>\n",
       "      <td>Processing Error</td>\n",
       "    </tr>\n",
       "    <tr>\n",
       "      <th>freq</th>\n",
       "      <td>1937</td>\n",
       "      <td>1834</td>\n",
       "      <td>2001</td>\n",
       "      <td>2001</td>\n",
       "      <td>1522</td>\n",
       "      <td>2001</td>\n",
       "      <td>2001</td>\n",
       "      <td>2001</td>\n",
       "      <td>2001</td>\n",
       "      <td>1980</td>\n",
       "      <td>1911</td>\n",
       "      <td>1878</td>\n",
       "      <td>2001</td>\n",
       "      <td>1085</td>\n",
       "      <td>1094</td>\n",
       "    </tr>\n",
       "  </tbody>\n",
       "</table>\n",
       "</div>"
      ],
      "text/plain": [
       "                S0_state          S1_state      S2_state REF_state  \\\n",
       "count               2001              2001          2001      2001   \n",
       "unique                 3                 3             1         1   \n",
       "top     Signal too small  Signal too small  Tool Missing        OK   \n",
       "freq                1937              1834          2001      2001   \n",
       "\n",
       "                S4_state JAW_state      S6_state      S7_state LMA_state  \\\n",
       "count               2001      2001          2001          2001      2001   \n",
       "unique                 2         1             1             1         1   \n",
       "top     Processing Error        OK  Tool Missing  Tool Missing        OK   \n",
       "freq                1522      2001          2001          2001      2001   \n",
       "\n",
       "       RMA_state         S10_state         S11_state OS_state S13_state  \\\n",
       "count       2001              2001              2001     2001      2001   \n",
       "unique         3                 2                 3        1         2   \n",
       "top           OK  Processing Error  Signal too small       OK   Bad Fit   \n",
       "freq        1980              1911              1878     2001      1085   \n",
       "\n",
       "               S14_state  \n",
       "count               2001  \n",
       "unique                 2  \n",
       "top     Processing Error  \n",
       "freq                1094  "
      ]
     },
     "execution_count": 8,
     "metadata": {},
     "output_type": "execute_result"
    }
   ],
   "source": [
    "drec.df[drec.state_cols].describe()"
   ]
  },
  {
   "cell_type": "markdown",
   "metadata": {},
   "source": [
    "## Load only known sensor data\n",
    "\n",
    "When you are satisifed with the mapping of known sensors you can skip the loading of other sensor columns. Omit the `load_all` parameter (or set it to `False`) to load only known sensors provided by your sensor map."
   ]
  },
  {
   "cell_type": "code",
   "execution_count": 9,
   "metadata": {},
   "outputs": [
    {
     "data": {
      "text/html": [
       "<div>\n",
       "<style scoped>\n",
       "    .dataframe tbody tr th:only-of-type {\n",
       "        vertical-align: middle;\n",
       "    }\n",
       "\n",
       "    .dataframe tbody tr th {\n",
       "        vertical-align: top;\n",
       "    }\n",
       "\n",
       "    .dataframe thead th {\n",
       "        text-align: right;\n",
       "    }\n",
       "</style>\n",
       "<table border=\"1\" class=\"dataframe\">\n",
       "  <thead>\n",
       "    <tr style=\"text-align: right;\">\n",
       "      <th></th>\n",
       "      <th>REF_state</th>\n",
       "      <th>JAW_state</th>\n",
       "      <th>LMA_state</th>\n",
       "      <th>RMA_state</th>\n",
       "      <th>OS_state</th>\n",
       "    </tr>\n",
       "  </thead>\n",
       "  <tbody>\n",
       "    <tr>\n",
       "      <th>count</th>\n",
       "      <td>2001</td>\n",
       "      <td>2001</td>\n",
       "      <td>2001</td>\n",
       "      <td>2001</td>\n",
       "      <td>2001</td>\n",
       "    </tr>\n",
       "    <tr>\n",
       "      <th>unique</th>\n",
       "      <td>1</td>\n",
       "      <td>1</td>\n",
       "      <td>1</td>\n",
       "      <td>3</td>\n",
       "      <td>1</td>\n",
       "    </tr>\n",
       "    <tr>\n",
       "      <th>top</th>\n",
       "      <td>OK</td>\n",
       "      <td>OK</td>\n",
       "      <td>OK</td>\n",
       "      <td>OK</td>\n",
       "      <td>OK</td>\n",
       "    </tr>\n",
       "    <tr>\n",
       "      <th>freq</th>\n",
       "      <td>2001</td>\n",
       "      <td>2001</td>\n",
       "      <td>2001</td>\n",
       "      <td>1980</td>\n",
       "      <td>2001</td>\n",
       "    </tr>\n",
       "  </tbody>\n",
       "</table>\n",
       "</div>"
      ],
      "text/plain": [
       "       REF_state JAW_state LMA_state RMA_state OS_state\n",
       "count       2001      2001      2001      2001     2001\n",
       "unique         1         1         1         3        1\n",
       "top           OK        OK        OK        OK       OK\n",
       "freq        2001      2001      2001      1980     2001"
      ]
     },
     "execution_count": 9,
     "metadata": {},
     "output_type": "execute_result"
    }
   ],
   "source": [
    "drec = NDIData(dfile, sensordict)\n",
    "drec.df[drec.state_cols].describe()"
   ]
  },
  {
   "cell_type": "markdown",
   "metadata": {},
   "source": [
    "## Extract coordinates\n",
    "\n",
    "Retrieve coordinate values with the `coords()` method. The values returned are a 3D ndarray in which the first axis is time in seconds, the second axis maps the sensors, and the third axis contains the `x`, `y`, `z` values.\n",
    "\n",
    "The `coords()` method returns a tuple containing:\n",
    "1. The coordinate  ndarray.\n",
    "1. The time labels for the first dimension of the returned values.\n",
    "1. The sensor labels for the second dimension of the returned values.\n",
    "\n",
    "By default values for all times and all sensors are returned."
   ]
  },
  {
   "cell_type": "code",
   "execution_count": 10,
   "metadata": {},
   "outputs": [],
   "source": [
    "coords, tlabels, slabels = drec.coords()\n",
    "assert(\n",
    "    coords.shape == (\n",
    "        len(tlabels),\n",
    "        len(slabels),\n",
    "        len(['x', 'y', 'z'])\n",
    "    )\n",
    ")"
   ]
  },
  {
   "cell_type": "markdown",
   "metadata": {},
   "source": [
    "Below is a plot of all the sensors for a single acquisition frame. Only the `x` (0) and `y` (1) dimensions are plotted."
   ]
  },
  {
   "cell_type": "code",
   "execution_count": 11,
   "metadata": {},
   "outputs": [
    {
     "data": {
      "image/png": "[encoded data removed]",
      "text/plain": [
       "<Figure size 432x288 with 1 Axes>"
      ]
     },
     "metadata": {
      "needs_background": "light"
     },
     "output_type": "display_data"
    }
   ],
   "source": [
    "frame = 0\n",
    "x = coords[frame,:,0]\n",
    "y = coords[frame,:,1]\n",
    "fig, ax = plt.subplots()\n",
    "ax.scatter(x, y)\n",
    "for n, txt in enumerate(slabels):\n",
    "    ax.annotate(txt, (x[n], y[n]))"
   ]
  },
  {
   "cell_type": "markdown",
   "metadata": {},
   "source": [
    "You can retrieve a subset of data values by specifying a `start` and `end` time for retrieval. You can also specify a subset of sensors with the `sensors` parameter."
   ]
  },
  {
   "cell_type": "code",
   "execution_count": 12,
   "metadata": {},
   "outputs": [
    {
     "name": "stdout",
     "output_type": "stream",
     "text": [
      "(4, 2, 3)\n",
      "4    0.024981\n",
      "5    0.029977\n",
      "6    0.034973\n",
      "7    0.039969\n",
      "Name: sec, dtype: float64\n",
      "['RMA', 'LMA']\n",
      "[[[-133.622   51.254  -56.036]\n",
      "  [ -21.821  132.776  -71.672]]\n",
      "\n",
      " [[-133.708   51.66   -55.522]\n",
      "  [ -22.046  133.54   -71.078]]\n",
      "\n",
      " [[-133.537   51.35   -56.04 ]\n",
      "  [ -22.179  133.243  -72.095]]\n",
      "\n",
      " [[-133.535   51.71   -55.548]\n",
      "  [ -21.904  133.362  -70.99 ]]]\n"
     ]
    }
   ],
   "source": [
    "coords, tlabels, slabels = drec.coords(start=0.02, end=0.04, sensors=['RMA', 'LMA'])\n",
    "print(coords.shape)\n",
    "print(tlabels)\n",
    "print(slabels)\n",
    "print(coords)"
   ]
  },
  {
   "cell_type": "markdown",
   "metadata": {},
   "source": [
    "## Rotate coordinates with a `WaxBiteplate5D` object\n",
    "\n",
    "A `WaxBiteplate5D` object is a special kind of `NDIData` object that can be used to  transform a set of coordinates into a reference space.\n",
    "\n",
    "A 5D wax biteplate recording should contain sensors at these locations: nasion, origin, molar, right_mastoid, left_mastoid. By default the sensor names for these are 'REF', 'OS', 'MS', 'RMA', 'LMA', respectively, and these names should be included in the sensor mapping you provide when you instantiate the object."
   ]
  },
  {
   "cell_type": "code",
   "execution_count": 13,
   "metadata": {},
   "outputs": [],
   "source": [
    "bp_sensors = [None, None, None, 'REF', 'MS', 'JAW', None, None, 'LMA', 'RMA', 'OS']\n",
    "bpfile = os.path.join(datadir, 'human_test_without_6dref_biteplate_002.tsv')\n",
    "bprec = WaxBiteplate5D(bpfile, bp_sensors)"
   ]
  },
  {
   "cell_type": "markdown",
   "metadata": {},
   "source": [
    "### Get raw coordinates\n",
    "\n",
    "The first step in rotating coordinates is to get the raw coordinates from an acquisition."
   ]
  },
  {
   "cell_type": "code",
   "execution_count": 14,
   "metadata": {},
   "outputs": [
    {
     "data": {
      "image/png": "[encoded data removed]",
      "text/plain": [
       "<Figure size 432x288 with 1 Axes>"
      ]
     },
     "metadata": {
      "needs_background": "light"
     },
     "output_type": "display_data"
    }
   ],
   "source": [
    "rawd, tlabels, slabels = drec.coords()\n",
    "sensor_plot(rawd, slabels)"
   ]
  },
  {
   "cell_type": "markdown",
   "metadata": {},
   "source": [
    "### Apply smoothing\n",
    "\n",
    "If desired, apply a smoothing function to the coordinates."
   ]
  },
  {
   "cell_type": "code",
   "execution_count": 15,
   "metadata": {},
   "outputs": [
    {
     "data": {
      "image/png": "[encoded data removed]",
      "text/plain": [
       "<Figure size 432x288 with 1 Axes>"
      ]
     },
     "metadata": {
      "needs_background": "light"
     },
     "output_type": "display_data"
    }
   ],
   "source": [
    "srawd = smoothn(rawd, axis=[0], isrobust=True, s=20.0)[0]\n",
    "sensor_plot(srawd, slabels)"
   ]
  },
  {
   "cell_type": "markdown",
   "metadata": {},
   "source": [
    "### Rotate the smoothed coordinates\n",
    "\n",
    "The `WaxBiteplate5D` object's `transform()` method rotates and translates an ndarray of coordinates. The first parameter passes the ndarray of coordinates. The second parameter provides a list of sensor labels in the order they appear in the second dimension of the coordinate ndarray. This list must include the same labels used to identify the nasion, right mastoid, and left mastoid sensors in the `WaxBiteplate5D` object. By default these are the fixed sensors 'REF', 'RMA', and 'LMA'.\n",
    "\n",
    "An idealized head location is determined for the fixed sensors in the biteplate recording, and then the same sensors in the input coordinate data are mapped frame-by-frame to the idealized locations. The rotation and translation required to perform this mapping is then applied to all the coordinate data to complete the `transform()`."
   ]
  },
  {
   "cell_type": "code",
   "execution_count": 16,
   "metadata": {},
   "outputs": [
    {
     "data": {
      "image/png": "[encoded data removed]",
      "text/plain": [
       "<Figure size 432x288 with 1 Axes>"
      ]
     },
     "metadata": {
      "needs_background": "light"
     },
     "output_type": "display_data"
    }
   ],
   "source": [
    "rotd = bprec.transform(srawd, slabels)\n",
    "sensor_plot(rotd, drec.sensors)"
   ]
  },
  {
   "cell_type": "markdown",
   "metadata": {},
   "source": [
    "## Rotate coordinates with a `WaxBiteplate6D` object\n",
    "\n",
    "A `WaxBiteplate6D` object is similar to the `WaxBiteplate5D` object, but has a reference sensor that provides global positioning for all the other sensor values. Transforming 6DOF data is simpler than 5DOF because it is not necessary to calculate a mapping of fixed sensors on a frame-by-frame basis. The same rotation and translation required to put the biteplate recording into reference orientation can simply be applied to all coordinates in related recordings with identical reference sensor placement. \n",
    "\n",
    "A 6D wax biteplate recording should contain sensors at these locations: origin, molar. By default the sensor names for these are 'OS', 'MS', respectively, and these names should be included in the sensor mapping you provide when you instantiate the object. The 'REF' (nasion) reference sensor should not be included in the sensor mapping as it is in a different coordinate space than the other sensors."
   ]
  },
  {
   "cell_type": "code",
   "execution_count": 17,
   "metadata": {},
   "outputs": [],
   "source": [
    "bp_sensors_sn715 = {'OS': 11,'MS': 12}\n",
    "d6bpfile = os.path.join(datadir, 'SN715_BitePlate.tsv')\n",
    "bp6d = WaxBiteplate6D(d6bpfile, bp_sensors_sn715)"
   ]
  },
  {
   "cell_type": "markdown",
   "metadata": {},
   "source": [
    "### Get raw coordinates"
   ]
  },
  {
   "cell_type": "code",
   "execution_count": 18,
   "metadata": {},
   "outputs": [],
   "source": [
    "data_sensors_sn715 = {'UL': 1, 'LL': 2, 'JW': 3, 'TT': 4, 'TB': 5, 'TD': 6, 'PL': 13}\n",
    "d6tsvfile = os.path.join(datadir, 'SN715_MOCHA_TIMIT_451.tsv')\n",
    "d6rec = NDIData(d6tsvfile, data_sensors_sn715)"
   ]
  },
  {
   "cell_type": "code",
   "execution_count": 19,
   "metadata": {},
   "outputs": [
    {
     "data": {
      "image/png": "[encoded data removed]",
      "text/plain": [
       "<Figure size 432x288 with 1 Axes>"
      ]
     },
     "metadata": {
      "needs_background": "light"
     },
     "output_type": "display_data"
    }
   ],
   "source": [
    "raw6d, d6tlabels, d6slabels = d6rec.coords(['UL', 'LL', 'JW', 'TT', 'TB', 'TD'])\n",
    "sensor_plot(raw6d, d6slabels)"
   ]
  },
  {
   "cell_type": "markdown",
   "metadata": {},
   "source": [
    "### Apply smoothing"
   ]
  },
  {
   "cell_type": "code",
   "execution_count": 20,
   "metadata": {},
   "outputs": [
    {
     "data": {
      "image/png": "[encoded data removed]",
      "text/plain": [
       "<Figure size 432x288 with 1 Axes>"
      ]
     },
     "metadata": {
      "needs_background": "light"
     },
     "output_type": "display_data"
    }
   ],
   "source": [
    "sraw6d = smoothn(raw6d, axis=[0], isrobust=True, s=20.0)[0]\n",
    "sensor_plot(sraw6d, d6slabels)"
   ]
  },
  {
   "cell_type": "markdown",
   "metadata": {},
   "source": [
    "### Rotate the smoothed coordinates\n",
    "\n",
    "Note that `transform()` for a 6DOF rotation reference does not include a parameter for passing sensor labels. This is because it is not necessary to find and map fixed sensors to the rotation reference. All sensors are simply transformed using the same rotation and translation required to put the biteplate recording into the reference orientation."
   ]
  },
  {
   "cell_type": "code",
   "execution_count": 21,
   "metadata": {},
   "outputs": [
    {
     "data": {
      "image/png": "[encoded data removed]",
      "text/plain": [
       "<Figure size 432x288 with 1 Axes>"
      ]
     },
     "metadata": {
      "needs_background": "light"
     },
     "output_type": "display_data"
    }
   ],
   "source": [
    "rot6d = bp6d.transform(sraw6d)\n",
    "sensor_plot(rot6d, d6slabels)"
   ]
  },
  {
   "cell_type": "markdown",
   "metadata": {},
   "source": [
    "## Convert coordinates to a dataframe\n",
    "\n",
    "The `coord2df()` function will flatten a 3D ndarray of coordinates into a dataframe table. The `sec` parameter provides the time column, and the `sensors` parameter is used to construct the `<sensor>_<xyz>` column names. Here we create a new dataframe from smoothed and rotated coordinates."
   ]
  },
  {
   "cell_type": "code",
   "execution_count": 22,
   "metadata": {},
   "outputs": [
    {
     "data": {
      "text/html": [
       "<div>\n",
       "<style scoped>\n",
       "    .dataframe tbody tr th:only-of-type {\n",
       "        vertical-align: middle;\n",
       "    }\n",
       "\n",
       "    .dataframe tbody tr th {\n",
       "        vertical-align: top;\n",
       "    }\n",
       "\n",
       "    .dataframe thead th {\n",
       "        text-align: right;\n",
       "    }\n",
       "</style>\n",
       "<table border=\"1\" class=\"dataframe\">\n",
       "  <thead>\n",
       "    <tr style=\"text-align: right;\">\n",
       "      <th></th>\n",
       "      <th>sec</th>\n",
       "      <th>UL_x</th>\n",
       "      <th>UL_y</th>\n",
       "      <th>UL_z</th>\n",
       "      <th>LL_x</th>\n",
       "      <th>LL_y</th>\n",
       "      <th>LL_z</th>\n",
       "      <th>JW_x</th>\n",
       "      <th>JW_y</th>\n",
       "      <th>JW_z</th>\n",
       "      <th>TT_x</th>\n",
       "      <th>TT_y</th>\n",
       "      <th>TT_z</th>\n",
       "      <th>TB_x</th>\n",
       "      <th>TB_y</th>\n",
       "      <th>TB_z</th>\n",
       "      <th>TD_x</th>\n",
       "      <th>TD_y</th>\n",
       "      <th>TD_z</th>\n",
       "    </tr>\n",
       "  </thead>\n",
       "  <tbody>\n",
       "    <tr>\n",
       "      <th>0</th>\n",
       "      <td>0.004994</td>\n",
       "      <td>48.063512</td>\n",
       "      <td>-88.840534</td>\n",
       "      <td>-101.420618</td>\n",
       "      <td>48.074026</td>\n",
       "      <td>-126.504131</td>\n",
       "      <td>-107.649588</td>\n",
       "      <td>36.078651</td>\n",
       "      <td>-103.695824</td>\n",
       "      <td>-104.490108</td>\n",
       "      <td>25.036742</td>\n",
       "      <td>-102.672268</td>\n",
       "      <td>-114.168394</td>\n",
       "      <td>8.899887</td>\n",
       "      <td>-96.340820</td>\n",
       "      <td>-119.554468</td>\n",
       "      <td>-1.915584</td>\n",
       "      <td>-95.003490</td>\n",
       "      <td>-113.129350</td>\n",
       "    </tr>\n",
       "    <tr>\n",
       "      <th>1</th>\n",
       "      <td>0.004996</td>\n",
       "      <td>48.062260</td>\n",
       "      <td>-88.841595</td>\n",
       "      <td>-101.399317</td>\n",
       "      <td>48.046678</td>\n",
       "      <td>-126.513055</td>\n",
       "      <td>-107.674565</td>\n",
       "      <td>36.073734</td>\n",
       "      <td>-103.699635</td>\n",
       "      <td>-104.487504</td>\n",
       "      <td>25.006564</td>\n",
       "      <td>-102.675278</td>\n",
       "      <td>-114.181523</td>\n",
       "      <td>8.902681</td>\n",
       "      <td>-96.337846</td>\n",
       "      <td>-119.567032</td>\n",
       "      <td>-1.906805</td>\n",
       "      <td>-94.994427</td>\n",
       "      <td>-113.127135</td>\n",
       "    </tr>\n",
       "    <tr>\n",
       "      <th>2</th>\n",
       "      <td>0.009992</td>\n",
       "      <td>48.058669</td>\n",
       "      <td>-88.841189</td>\n",
       "      <td>-101.357015</td>\n",
       "      <td>47.992129</td>\n",
       "      <td>-126.529457</td>\n",
       "      <td>-107.721391</td>\n",
       "      <td>36.063880</td>\n",
       "      <td>-103.705985</td>\n",
       "      <td>-104.482190</td>\n",
       "      <td>24.948763</td>\n",
       "      <td>-102.681082</td>\n",
       "      <td>-114.206274</td>\n",
       "      <td>8.907322</td>\n",
       "      <td>-96.330920</td>\n",
       "      <td>-119.592784</td>\n",
       "      <td>-1.889254</td>\n",
       "      <td>-94.975067</td>\n",
       "      <td>-113.122317</td>\n",
       "    </tr>\n",
       "    <tr>\n",
       "      <th>3</th>\n",
       "      <td>0.014988</td>\n",
       "      <td>48.054964</td>\n",
       "      <td>-88.837351</td>\n",
       "      <td>-101.294658</td>\n",
       "      <td>47.914622</td>\n",
       "      <td>-126.549533</td>\n",
       "      <td>-107.785145</td>\n",
       "      <td>36.048787</td>\n",
       "      <td>-103.712826</td>\n",
       "      <td>-104.470940</td>\n",
       "      <td>24.873848</td>\n",
       "      <td>-102.687426</td>\n",
       "      <td>-114.232172</td>\n",
       "      <td>8.912913</td>\n",
       "      <td>-96.317083</td>\n",
       "      <td>-119.627037</td>\n",
       "      <td>-1.863415</td>\n",
       "      <td>-94.946360</td>\n",
       "      <td>-113.114313</td>\n",
       "    </tr>\n",
       "    <tr>\n",
       "      <th>4</th>\n",
       "      <td>0.019984</td>\n",
       "      <td>48.048784</td>\n",
       "      <td>-88.825192</td>\n",
       "      <td>-101.212163</td>\n",
       "      <td>47.813740</td>\n",
       "      <td>-126.568883</td>\n",
       "      <td>-107.860249</td>\n",
       "      <td>36.027607</td>\n",
       "      <td>-103.716343</td>\n",
       "      <td>-104.450475</td>\n",
       "      <td>24.783971</td>\n",
       "      <td>-102.695908</td>\n",
       "      <td>-114.257748</td>\n",
       "      <td>8.918653</td>\n",
       "      <td>-96.294264</td>\n",
       "      <td>-119.668088</td>\n",
       "      <td>-1.828640</td>\n",
       "      <td>-94.906463</td>\n",
       "      <td>-113.100500</td>\n",
       "    </tr>\n",
       "  </tbody>\n",
       "</table>\n",
       "</div>"
      ],
      "text/plain": [
       "        sec       UL_x       UL_y        UL_z       LL_x        LL_y  \\\n",
       "0  0.004994  48.063512 -88.840534 -101.420618  48.074026 -126.504131   \n",
       "1  0.004996  48.062260 -88.841595 -101.399317  48.046678 -126.513055   \n",
       "2  0.009992  48.058669 -88.841189 -101.357015  47.992129 -126.529457   \n",
       "3  0.014988  48.054964 -88.837351 -101.294658  47.914622 -126.549533   \n",
       "4  0.019984  48.048784 -88.825192 -101.212163  47.813740 -126.568883   \n",
       "\n",
       "         LL_z       JW_x        JW_y        JW_z       TT_x        TT_y  \\\n",
       "0 -107.649588  36.078651 -103.695824 -104.490108  25.036742 -102.672268   \n",
       "1 -107.674565  36.073734 -103.699635 -104.487504  25.006564 -102.675278   \n",
       "2 -107.721391  36.063880 -103.705985 -104.482190  24.948763 -102.681082   \n",
       "3 -107.785145  36.048787 -103.712826 -104.470940  24.873848 -102.687426   \n",
       "4 -107.860249  36.027607 -103.716343 -104.450475  24.783971 -102.695908   \n",
       "\n",
       "         TT_z      TB_x       TB_y        TB_z      TD_x       TD_y  \\\n",
       "0 -114.168394  8.899887 -96.340820 -119.554468 -1.915584 -95.003490   \n",
       "1 -114.181523  8.902681 -96.337846 -119.567032 -1.906805 -94.994427   \n",
       "2 -114.206274  8.907322 -96.330920 -119.592784 -1.889254 -94.975067   \n",
       "3 -114.232172  8.912913 -96.317083 -119.627037 -1.863415 -94.946360   \n",
       "4 -114.257748  8.918653 -96.294264 -119.668088 -1.828640 -94.906463   \n",
       "\n",
       "         TD_z  \n",
       "0 -113.129350  \n",
       "1 -113.127135  \n",
       "2 -113.122317  \n",
       "3 -113.114313  \n",
       "4 -113.100500  "
      ]
     },
     "execution_count": 22,
     "metadata": {},
     "output_type": "execute_result"
    }
   ],
   "source": [
    "df = coords2df(rot6d, sec=d6tlabels, sensors=d6slabels)\n",
    "df.head()"
   ]
  },
  {
   "cell_type": "code",
   "execution_count": 23,
   "metadata": {},
   "outputs": [
    {
     "data": {
      "text/plain": [
       "<matplotlib.axes._subplots.AxesSubplot at 0x121d14b390>"
      ]
     },
     "execution_count": 23,
     "metadata": {},
     "output_type": "execute_result"
    },
    {
     "data": {
      "image/png": "[encoded data removed]",
      "text/plain": [
       "<Figure size 432x288 with 1 Axes>"
      ]
     },
     "metadata": {
      "needs_background": "light"
     },
     "output_type": "display_data"
    }
   ],
   "source": [
    "df.plot('TB_x', 'TB_y')  # Should match the previous plot of TB"
   ]
  },
  {
   "cell_type": "markdown",
   "metadata": {},
   "source": [
    "### Save the smoothed and rotated data to a file\n",
    "\n",
    "Once the coordinates have been converted to a dataframe, use [`to_csv()`](https://pandas.pydata.org/pandas-docs/stable/reference/api/pandas.DataFrame.to_csv.html) to save the data to a file."
   ]
  },
  {
   "cell_type": "code",
   "execution_count": 24,
   "metadata": {},
   "outputs": [],
   "source": [
    "df.to_csv('somefile.tsv', sep='\\t', index=False)"
   ]
  },
  {
   "cell_type": "markdown",
   "metadata": {},
   "source": [
    "## A simple preprocessing function\n",
    "\n",
    "It is useful to preprocess your raw EMA data by applying smoothing to the raw coordinates and transforming them into reference orientation. The following simple function does this preprocessing and saves to an output file that is much smaller than the raw data file."
   ]
  },
  {
   "cell_type": "code",
   "execution_count": 25,
   "metadata": {},
   "outputs": [],
   "source": [
    "def smooth_rotate_and_save_file(tsv, sensors, rotation_ref, out):\n",
    "    '''\n",
    "    Load raw NDI data from .tsv file, applying smoothing, then transform\n",
    "    coordinates into a reference orientation, and save results to\n",
    "    an output .tsv file.\n",
    "    \n",
    "    Parameters\n",
    "    ----------\n",
    "    tsv : str\n",
    "        The path to the input .tsv file to be processed.\n",
    "        \n",
    "    sensors : list or dict\n",
    "        The mapping of sensor names to sensor index for the input .tsv file.\n",
    "        \n",
    "    rotation_ref : a `RotationRef` object, e.g. `WaxBiteplate[56]D`\n",
    "        The object with the reference orientation and that implements the\n",
    "        `transform()` method.\n",
    "        \n",
    "    out : str\n",
    "        The output .tsv filename.\n",
    "        \n",
    "    Returns\n",
    "    -------\n",
    "    No return value. Errors thrown during the processing will raise to the\n",
    "    caller.\n",
    "    '''\n",
    "    rec = NDIData(tsv, sensors)\n",
    "    rawd, tlabels, slabels = rec.coords()\n",
    "    srawd = smoothn(rawd, axis=[0], isrobust=True, s=20.0)[0]\n",
    "    if rotation_ref.is_6DOF:\n",
    "        rotd = rotation_ref.transform(srawd)\n",
    "    else:\n",
    "        rotd = rotation_ref.transform(srawd, slabels)\n",
    "    df = coords2df(rotd, sec=tlabels, sensors=slabels)\n",
    "    df.to_csv(out, sep='\\t', index=False)"
   ]
  },
  {
   "cell_type": "markdown",
   "metadata": {},
   "source": [
    "Example usage:"
   ]
  },
  {
   "cell_type": "code",
   "execution_count": 26,
   "metadata": {},
   "outputs": [],
   "source": [
    "# The biteplate recording that provides the reference orientation\n",
    "bp_sensors = [None, None, None, 'REF', 'MS', 'JAW', None, None, 'LMA', 'RMA', 'OS']\n",
    "bpfile = os.path.join(datadir, 'human_test_without_6dref_biteplate_002.tsv')\n",
    "bprec = WaxBiteplate5D(bpfile, bp_sensors)\n",
    "\n",
    "# The .tsv file to preprocess\n",
    "tsvname = os.path.join(datadir, 'human_test_with_6dref_000.tsv')\n",
    "sensordict = {'REF': 3, 'JAW': 5, 'LMA': 8, 'RMA': 9, 'OS': 12}\n",
    "\n",
    "# Preprocess and save\n",
    "smooth_rotate_and_save_file(\n",
    "    tsv=tsvname,\n",
    "    sensors=sensordict,\n",
    "    rotation_ref=bprec,\n",
    "    out='somefile.tsv'\n",
    ")"
   ]
  }
 ],
 "metadata": {
  "kernelspec": {
   "display_name": "Python 3",
   "language": "python",
   "name": "python3"
  },
  "language_info": {
   "codemirror_mode": {
    "name": "ipython",
    "version": 3
   },
   "file_extension": ".py",
   "mimetype": "text/x-python",
   "name": "python",
   "nbconvert_exporter": "python",
   "pygments_lexer": "ipython3",
   "version": "3.7.1"
  }
 },
 "nbformat": 4,
 "nbformat_minor": 2
}
